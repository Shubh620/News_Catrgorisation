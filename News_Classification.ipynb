{
 "cells": [
  {
   "cell_type": "code",
   "execution_count": 2,
   "metadata": {},
   "outputs": [],
   "source": [
    "import pandas as pd\n",
    "import numpy as np\n",
    "\n",
    "import re\n",
    "from sklearn.pipeline import Pipeline\n",
    "\n",
    "\n",
    "from sklearn.svm import LinearSVC\n",
    "from sklearn.linear_model import SGDClassifier\n",
    "\n",
    "from sklearn.feature_extraction.text import TfidfVectorizer, CountVectorizer, TfidfTransformer\n",
    "from sklearn.metrics import accuracy_score, confusion_matrix, roc_auc_score\n",
    "from sklearn.preprocessing import LabelEncoder\n",
    "from sklearn.model_selection import train_test_split\n",
    "\n",
    "import nltk\n",
    "from nltk.stem import WordNetLemmatizer\n",
    "from nltk import word_tokenize\n",
    "from nltk.corpus import stopwords\n",
    "import string\n",
    "\n",
    "import logging\n",
    "from textblob import TextBlob\n",
    "\n",
    "\n",
    "\n",
    "import warnings\n",
    "warnings.filterwarnings(\"ignore\")"
   ]
  },
  {
   "cell_type": "code",
   "execution_count": 3,
   "metadata": {},
   "outputs": [],
   "source": [
    "train_df_news = pd.read_csv(\"news_classification_train_set.csv\", index_col=0)"
   ]
  },
  {
   "cell_type": "code",
   "execution_count": 4,
   "metadata": {},
   "outputs": [],
   "source": [
    "test_df_news = pd.read_csv(\"news_classification_test_set_empty.csv\", index_col=0)"
   ]
  },
  {
   "cell_type": "code",
   "execution_count": 5,
   "metadata": {},
   "outputs": [],
   "source": [
    "df_news = pd.concat([train_df_news, test_df_news])"
   ]
  },
  {
   "cell_type": "code",
   "execution_count": 6,
   "metadata": {},
   "outputs": [
    {
     "data": {
      "text/plain": [
       "(200853, 3)"
      ]
     },
     "execution_count": 6,
     "metadata": {},
     "output_type": "execute_result"
    }
   ],
   "source": [
    "df_news.shape"
   ]
  },
  {
   "cell_type": "code",
   "execution_count": 7,
   "metadata": {},
   "outputs": [
    {
     "name": "stdout",
     "output_type": "stream",
     "text": [
      "<class 'pandas.core.frame.DataFrame'>\n",
      "Int64Index: 200853 entries, 0 to 50212\n",
      "Data columns (total 3 columns):\n",
      "headline             200847 non-null object\n",
      "short_description    181141 non-null object\n",
      "category             150640 non-null object\n",
      "dtypes: object(3)\n",
      "memory usage: 6.1+ MB\n"
     ]
    }
   ],
   "source": [
    "df_news.info()"
   ]
  },
  {
   "cell_type": "code",
   "execution_count": 8,
   "metadata": {},
   "outputs": [
    {
     "data": {
      "text/plain": [
       "<matplotlib.axes._subplots.AxesSubplot at 0x124d040d0>"
      ]
     },
     "execution_count": 8,
     "metadata": {},
     "output_type": "execute_result"
    }
   ],
   "source": [
    "df_news['category'].value_counts().plot( kind='bar', figsize=(15,10))"
   ]
  },
  {
   "cell_type": "code",
   "execution_count": 9,
   "metadata": {},
   "outputs": [],
   "source": [
    "#similar category merge like ARTS & CULTURE'or 'CULTURE & ARTS or ARTS represent the same category,...\n",
    "#No need of them to be 3 seperated categories\n",
    "\n",
    "df_news['category'].replace({'TECH':'SCIENCE & TECH',\n",
    "                                 'SCIENCE':'SCIENCE & TECH',\n",
    "                                 'THE WORLDPOST':'WORLD NEWS',\n",
    "                                 'WORLDPOST':'WORLD NEWS',\n",
    "                                 'PARENTS':'PARENTING',\n",
    "                                 'STYLE':'STYLE & BEAUTY',\n",
    "                                 'ARTS & CULTURE':'CULTURE & ARTS',\n",
    "                                 'ARTS':'CULTURE & ARTS',\n",
    "                                 'COLLEGE':'EDUCATION', \n",
    "                                 'HEALTHY LIVING':'WELLNESS',\n",
    "                                 'BLACK VOICES':'MINORITY VOICES',\n",
    "                                 'LATINO VOICES':'MINORITY VOICES',\n",
    "                                 'QUEER VOICES':'MINORITY VOICES',\n",
    "                                 'GREEN':'ENVIRONMENT',\n",
    "                                 'TASTE':'FOOD & DRINK',\n",
    "                                 'BUSINESS':'ECONOMY',\n",
    "                                 'MONEY':'ECONOMY'}, inplace=True)"
   ]
  },
  {
   "cell_type": "code",
   "execution_count": 10,
   "metadata": {},
   "outputs": [
    {
     "data": {
      "text/plain": [
       "27"
      ]
     },
     "execution_count": 10,
     "metadata": {},
     "output_type": "execute_result"
    }
   ],
   "source": [
    "df_news['category'].nunique()"
   ]
  },
  {
   "cell_type": "code",
   "execution_count": 11,
   "metadata": {},
   "outputs": [
    {
     "data": {
      "text/plain": [
       "<matplotlib.axes._subplots.AxesSubplot at 0x1286cf590>"
      ]
     },
     "execution_count": 11,
     "metadata": {},
     "output_type": "execute_result"
    },
    {
     "data": {
      "image/png": "[encoded data removed]",
      "text/plain": [
       "<Figure size 1080x720 with 1 Axes>"
      ]
     },
     "metadata": {
      "needs_background": "light"
     },
     "output_type": "display_data"
    }
   ],
   "source": [
    "df_news['category'].value_counts().plot( kind='bar', figsize=(15,10))"
   ]
  },
  {
   "cell_type": "code",
   "execution_count": 12,
   "metadata": {},
   "outputs": [
    {
     "name": "stdout",
     "output_type": "stream",
     "text": [
      "<class 'pandas.core.frame.DataFrame'>\n",
      "Int64Index: 200853 entries, 0 to 50212\n",
      "Data columns (total 3 columns):\n",
      "headline             200847 non-null object\n",
      "short_description    181141 non-null object\n",
      "category             150640 non-null object\n",
      "dtypes: object(3)\n",
      "memory usage: 6.1+ MB\n"
     ]
    }
   ],
   "source": [
    "df_news.info()"
   ]
  },
  {
   "cell_type": "code",
   "execution_count": 13,
   "metadata": {},
   "outputs": [],
   "source": [
    "df_news.fillna(\" \", inplace=True)\n"
   ]
  },
  {
   "cell_type": "code",
   "execution_count": 14,
   "metadata": {},
   "outputs": [],
   "source": [
    "df_news['text'] = df_news['headline'] + \" \" + df_news['short_description']"
   ]
  },
  {
   "cell_type": "code",
   "execution_count": 15,
   "metadata": {},
   "outputs": [],
   "source": [
    "#Function to clean, tokenize, remove stop word, and not alphanumeric from data¶\n",
    "\n",
    "stop_words_ = set(stopwords.words('english'))\n",
    "wn = WordNetLemmatizer()\n",
    "\n",
    "\n",
    "def black_txt(token):\n",
    "    return  token not in stop_words_ and token not in list(string.punctuation)  and len(token)>2 \n",
    "  \n",
    "def clean_txt(text):\n",
    "    clean_text = []\n",
    "    clean_text2 = []\n",
    "    text = re.sub(\"'\", \"\",text)\n",
    "    text=re.sub(\"(\\\\d|\\\\W)+\",\" \",text)    \n",
    "    clean_text = [ wn.lemmatize(word, pos=\"v\") for word in word_tokenize(text.lower()) if black_txt(word)]\n",
    "    clean_text2 = [word for word in clean_text if black_txt(word)]\n",
    "    return \" \".join(clean_text2)"
   ]
  },
  {
   "cell_type": "code",
   "execution_count": 16,
   "metadata": {},
   "outputs": [],
   "source": [
    "def polarity_txt(text):\n",
    "    return TextBlob(text).sentiment[0]"
   ]
  },
  {
   "cell_type": "code",
   "execution_count": 17,
   "metadata": {},
   "outputs": [],
   "source": [
    "def subj_txt(text):\n",
    "    return  TextBlob(text).sentiment[1]"
   ]
  },
  {
   "cell_type": "code",
   "execution_count": 18,
   "metadata": {},
   "outputs": [],
   "source": [
    "def len_text(text):\n",
    "    if len(text.split())>0:\n",
    "         return len(set(clean_txt(text).split()))/ len(text.split())\n",
    "    else:\n",
    "         return 0"
   ]
  },
  {
   "cell_type": "code",
   "execution_count": 19,
   "metadata": {},
   "outputs": [
    {
     "data": {
      "text/html": [
       "<div>\n",
       "<style scoped>\n",
       "    .dataframe tbody tr th:only-of-type {\n",
       "        vertical-align: middle;\n",
       "    }\n",
       "\n",
       "    .dataframe tbody tr th {\n",
       "        vertical-align: top;\n",
       "    }\n",
       "\n",
       "    .dataframe thead th {\n",
       "        text-align: right;\n",
       "    }\n",
       "</style>\n",
       "<table border=\"1\" class=\"dataframe\">\n",
       "  <thead>\n",
       "    <tr style=\"text-align: right;\">\n",
       "      <th></th>\n",
       "      <th>headline</th>\n",
       "      <th>short_description</th>\n",
       "      <th>category</th>\n",
       "      <th>text</th>\n",
       "      <th>polarity</th>\n",
       "    </tr>\n",
       "  </thead>\n",
       "  <tbody>\n",
       "    <tr>\n",
       "      <th>0</th>\n",
       "      <td>Jared Kushner Arrives In Israel For Whirlwind ...</td>\n",
       "      <td>It remains unclear what approach the White Hou...</td>\n",
       "      <td>POLITICS</td>\n",
       "      <td>Jared Kushner Arrives In Israel For Whirlwind ...</td>\n",
       "      <td>0.0</td>\n",
       "    </tr>\n",
       "    <tr>\n",
       "      <th>1</th>\n",
       "      <td>'The Best Thing Is To See How Much Love Can Do...</td>\n",
       "      <td></td>\n",
       "      <td>MINORITY VOICES</td>\n",
       "      <td>'The Best Thing Is To See How Much Love Can Do...</td>\n",
       "      <td>0.5</td>\n",
       "    </tr>\n",
       "  </tbody>\n",
       "</table>\n",
       "</div>"
      ],
      "text/plain": [
       "                                            headline  \\\n",
       "0  Jared Kushner Arrives In Israel For Whirlwind ...   \n",
       "1  'The Best Thing Is To See How Much Love Can Do...   \n",
       "\n",
       "                                   short_description         category  \\\n",
       "0  It remains unclear what approach the White Hou...         POLITICS   \n",
       "1                                                     MINORITY VOICES   \n",
       "\n",
       "                                                text  polarity  \n",
       "0  Jared Kushner Arrives In Israel For Whirlwind ...       0.0  \n",
       "1  'The Best Thing Is To See How Much Love Can Do...       0.5  "
      ]
     },
     "execution_count": 19,
     "metadata": {},
     "output_type": "execute_result"
    }
   ],
   "source": [
    "df_news['polarity'] = df_news['text'].apply(polarity_txt)\n",
    "df_news.head(2)"
   ]
  },
  {
   "cell_type": "code",
   "execution_count": 20,
   "metadata": {},
   "outputs": [
    {
     "data": {
      "text/html": [
       "<div>\n",
       "<style scoped>\n",
       "    .dataframe tbody tr th:only-of-type {\n",
       "        vertical-align: middle;\n",
       "    }\n",
       "\n",
       "    .dataframe tbody tr th {\n",
       "        vertical-align: top;\n",
       "    }\n",
       "\n",
       "    .dataframe thead th {\n",
       "        text-align: right;\n",
       "    }\n",
       "</style>\n",
       "<table border=\"1\" class=\"dataframe\">\n",
       "  <thead>\n",
       "    <tr style=\"text-align: right;\">\n",
       "      <th></th>\n",
       "      <th>headline</th>\n",
       "      <th>short_description</th>\n",
       "      <th>category</th>\n",
       "      <th>text</th>\n",
       "      <th>polarity</th>\n",
       "      <th>subjectivity</th>\n",
       "    </tr>\n",
       "  </thead>\n",
       "  <tbody>\n",
       "    <tr>\n",
       "      <th>0</th>\n",
       "      <td>Jared Kushner Arrives In Israel For Whirlwind ...</td>\n",
       "      <td>It remains unclear what approach the White Hou...</td>\n",
       "      <td>POLITICS</td>\n",
       "      <td>Jared Kushner Arrives In Israel For Whirlwind ...</td>\n",
       "      <td>0.0</td>\n",
       "      <td>0.000000</td>\n",
       "    </tr>\n",
       "    <tr>\n",
       "      <th>1</th>\n",
       "      <td>'The Best Thing Is To See How Much Love Can Do...</td>\n",
       "      <td></td>\n",
       "      <td>MINORITY VOICES</td>\n",
       "      <td>'The Best Thing Is To See How Much Love Can Do...</td>\n",
       "      <td>0.5</td>\n",
       "      <td>0.333333</td>\n",
       "    </tr>\n",
       "  </tbody>\n",
       "</table>\n",
       "</div>"
      ],
      "text/plain": [
       "                                            headline  \\\n",
       "0  Jared Kushner Arrives In Israel For Whirlwind ...   \n",
       "1  'The Best Thing Is To See How Much Love Can Do...   \n",
       "\n",
       "                                   short_description         category  \\\n",
       "0  It remains unclear what approach the White Hou...         POLITICS   \n",
       "1                                                     MINORITY VOICES   \n",
       "\n",
       "                                                text  polarity  subjectivity  \n",
       "0  Jared Kushner Arrives In Israel For Whirlwind ...       0.0      0.000000  \n",
       "1  'The Best Thing Is To See How Much Love Can Do...       0.5      0.333333  "
      ]
     },
     "execution_count": 20,
     "metadata": {},
     "output_type": "execute_result"
    }
   ],
   "source": [
    "df_news['subjectivity'] = df_news['text'].apply(subj_txt)\n",
    "df_news.head(2)"
   ]
  },
  {
   "cell_type": "code",
   "execution_count": 21,
   "metadata": {},
   "outputs": [
    {
     "data": {
      "text/html": [
       "<div>\n",
       "<style scoped>\n",
       "    .dataframe tbody tr th:only-of-type {\n",
       "        vertical-align: middle;\n",
       "    }\n",
       "\n",
       "    .dataframe tbody tr th {\n",
       "        vertical-align: top;\n",
       "    }\n",
       "\n",
       "    .dataframe thead th {\n",
       "        text-align: right;\n",
       "    }\n",
       "</style>\n",
       "<table border=\"1\" class=\"dataframe\">\n",
       "  <thead>\n",
       "    <tr style=\"text-align: right;\">\n",
       "      <th></th>\n",
       "      <th>headline</th>\n",
       "      <th>short_description</th>\n",
       "      <th>category</th>\n",
       "      <th>text</th>\n",
       "      <th>polarity</th>\n",
       "      <th>subjectivity</th>\n",
       "      <th>len</th>\n",
       "    </tr>\n",
       "  </thead>\n",
       "  <tbody>\n",
       "    <tr>\n",
       "      <th>0</th>\n",
       "      <td>Jared Kushner Arrives In Israel For Whirlwind ...</td>\n",
       "      <td>It remains unclear what approach the White Hou...</td>\n",
       "      <td>POLITICS</td>\n",
       "      <td>Jared Kushner Arrives In Israel For Whirlwind ...</td>\n",
       "      <td>0.0</td>\n",
       "      <td>0.000000</td>\n",
       "      <td>0.6</td>\n",
       "    </tr>\n",
       "    <tr>\n",
       "      <th>1</th>\n",
       "      <td>'The Best Thing Is To See How Much Love Can Do...</td>\n",
       "      <td></td>\n",
       "      <td>MINORITY VOICES</td>\n",
       "      <td>'The Best Thing Is To See How Much Love Can Do...</td>\n",
       "      <td>0.5</td>\n",
       "      <td>0.333333</td>\n",
       "      <td>0.4</td>\n",
       "    </tr>\n",
       "  </tbody>\n",
       "</table>\n",
       "</div>"
      ],
      "text/plain": [
       "                                            headline  \\\n",
       "0  Jared Kushner Arrives In Israel For Whirlwind ...   \n",
       "1  'The Best Thing Is To See How Much Love Can Do...   \n",
       "\n",
       "                                   short_description         category  \\\n",
       "0  It remains unclear what approach the White Hou...         POLITICS   \n",
       "1                                                     MINORITY VOICES   \n",
       "\n",
       "                                                text  polarity  subjectivity  \\\n",
       "0  Jared Kushner Arrives In Israel For Whirlwind ...       0.0      0.000000   \n",
       "1  'The Best Thing Is To See How Much Love Can Do...       0.5      0.333333   \n",
       "\n",
       "   len  \n",
       "0  0.6  \n",
       "1  0.4  "
      ]
     },
     "execution_count": 21,
     "metadata": {},
     "output_type": "execute_result"
    }
   ],
   "source": [
    "df_news['len'] = df_news['text'].apply(len_text)\n",
    "df_news.head(2)"
   ]
  },
  {
   "cell_type": "code",
   "execution_count": null,
   "metadata": {},
   "outputs": [],
   "source": []
  },
  {
   "cell_type": "code",
   "execution_count": 22,
   "metadata": {},
   "outputs": [],
   "source": [
    "from sklearn.base import BaseEstimator, TransformerMixin\n",
    "from sklearn.pipeline import FeatureUnion\n",
    "from sklearn.feature_extraction import DictVectorizer\n",
    "class ItemSelector(BaseEstimator, TransformerMixin):\n",
    "    def __init__(self, key):\n",
    "        self.key = key\n",
    "\n",
    "    def fit(self, x, y=None):\n",
    "        return self\n",
    "\n",
    "    def transform(self, data_dict):\n",
    "        return data_dict[self.key]\n",
    "\n",
    "\n",
    "class TextStats(BaseEstimator, TransformerMixin):\n",
    "    \"\"\"Extract features from each document for DictVectorizer\"\"\"\n",
    "\n",
    "    def fit(self, x, y=None):\n",
    "        return self\n",
    "\n",
    "    def transform(self, data):\n",
    "        return [{'pos':  row['polarity'], 'sub': row['subjectivity'],  'len': row['len']} for _, row in data.iterrows()]"
   ]
  },
  {
   "cell_type": "code",
   "execution_count": 23,
   "metadata": {},
   "outputs": [],
   "source": [
    "pipeline = Pipeline([\n",
    "    ('union', FeatureUnion(\n",
    "        transformer_list=[\n",
    "\n",
    "            # Pipeline for pulling features from the text\n",
    "            ('text', Pipeline([\n",
    "                ('selector', ItemSelector(key='text')),\n",
    "                ('tfidf', TfidfVectorizer( min_df =3, max_df=0.2, max_features=None, \n",
    "                    strip_accents='unicode', analyzer='word',token_pattern=r'\\w{1,}',\n",
    "                    ngram_range=(1, 10), use_idf=1,smooth_idf=1,sublinear_tf=1,\n",
    "                    stop_words = None, preprocessor=clean_txt)),\n",
    "            ])),\n",
    "\n",
    "            # Pipeline for pulling metadata features\n",
    "            ('stats', Pipeline([\n",
    "                ('selector', ItemSelector(key=['polarity', 'subjectivity', 'len'])),\n",
    "                ('stats', TextStats()),  # returns a list of dicts\n",
    "                ('vect', DictVectorizer()),  # list of dicts -> feature matrix\n",
    "            ])),\n",
    "\n",
    "        ],\n",
    "\n",
    "        # weight components in FeatureUnion\n",
    "        transformer_weights={\n",
    "            'text': 0.9,\n",
    "            'stats': 1.5,\n",
    "        },\n",
    "    ))\n",
    "])"
   ]
  },
  {
   "cell_type": "markdown",
   "metadata": {},
   "source": [
    "# Build the Pipeline"
   ]
  },
  {
   "cell_type": "code",
   "execution_count": 24,
   "metadata": {},
   "outputs": [
    {
     "data": {
      "text/html": [
       "<div>\n",
       "<style scoped>\n",
       "    .dataframe tbody tr th:only-of-type {\n",
       "        vertical-align: middle;\n",
       "    }\n",
       "\n",
       "    .dataframe tbody tr th {\n",
       "        vertical-align: top;\n",
       "    }\n",
       "\n",
       "    .dataframe thead th {\n",
       "        text-align: right;\n",
       "    }\n",
       "</style>\n",
       "<table border=\"1\" class=\"dataframe\">\n",
       "  <thead>\n",
       "    <tr style=\"text-align: right;\">\n",
       "      <th></th>\n",
       "      <th>headline</th>\n",
       "      <th>short_description</th>\n",
       "      <th>category</th>\n",
       "      <th>text</th>\n",
       "      <th>polarity</th>\n",
       "      <th>subjectivity</th>\n",
       "      <th>len</th>\n",
       "    </tr>\n",
       "  </thead>\n",
       "  <tbody>\n",
       "    <tr>\n",
       "      <th>0</th>\n",
       "      <td>Jared Kushner Arrives In Israel For Whirlwind ...</td>\n",
       "      <td>It remains unclear what approach the White Hou...</td>\n",
       "      <td>POLITICS</td>\n",
       "      <td>Jared Kushner Arrives In Israel For Whirlwind ...</td>\n",
       "      <td>0.00</td>\n",
       "      <td>0.000000</td>\n",
       "      <td>0.600000</td>\n",
       "    </tr>\n",
       "    <tr>\n",
       "      <th>1</th>\n",
       "      <td>'The Best Thing Is To See How Much Love Can Do...</td>\n",
       "      <td></td>\n",
       "      <td>MINORITY VOICES</td>\n",
       "      <td>'The Best Thing Is To See How Much Love Can Do...</td>\n",
       "      <td>0.50</td>\n",
       "      <td>0.333333</td>\n",
       "      <td>0.400000</td>\n",
       "    </tr>\n",
       "    <tr>\n",
       "      <th>2</th>\n",
       "      <td>Berlin's Nightlife: 48 Hours You Might Not Rem...</td>\n",
       "      <td>If you think spending time boozing and schmooz...</td>\n",
       "      <td>TRAVEL</td>\n",
       "      <td>Berlin's Nightlife: 48 Hours You Might Not Rem...</td>\n",
       "      <td>0.00</td>\n",
       "      <td>0.000000</td>\n",
       "      <td>0.515152</td>\n",
       "    </tr>\n",
       "    <tr>\n",
       "      <th>3</th>\n",
       "      <td>Finding Strength to Stand on Your Own</td>\n",
       "      <td>I was so used to being taken care of by family...</td>\n",
       "      <td>DIVORCE</td>\n",
       "      <td>Finding Strength to Stand on Your Own I was so...</td>\n",
       "      <td>0.35</td>\n",
       "      <td>0.650000</td>\n",
       "      <td>0.428571</td>\n",
       "    </tr>\n",
       "    <tr>\n",
       "      <th>4</th>\n",
       "      <td>Alexander Wang Lawsuit Will Move To Federal Co...</td>\n",
       "      <td>Representatives of Alexander Wang's brand cont...</td>\n",
       "      <td>STYLE &amp; BEAUTY</td>\n",
       "      <td>Alexander Wang Lawsuit Will Move To Federal Co...</td>\n",
       "      <td>0.00</td>\n",
       "      <td>0.000000</td>\n",
       "      <td>0.678571</td>\n",
       "    </tr>\n",
       "  </tbody>\n",
       "</table>\n",
       "</div>"
      ],
      "text/plain": [
       "                                            headline  \\\n",
       "0  Jared Kushner Arrives In Israel For Whirlwind ...   \n",
       "1  'The Best Thing Is To See How Much Love Can Do...   \n",
       "2  Berlin's Nightlife: 48 Hours You Might Not Rem...   \n",
       "3              Finding Strength to Stand on Your Own   \n",
       "4  Alexander Wang Lawsuit Will Move To Federal Co...   \n",
       "\n",
       "                                   short_description         category  \\\n",
       "0  It remains unclear what approach the White Hou...         POLITICS   \n",
       "1                                                     MINORITY VOICES   \n",
       "2  If you think spending time boozing and schmooz...           TRAVEL   \n",
       "3  I was so used to being taken care of by family...          DIVORCE   \n",
       "4  Representatives of Alexander Wang's brand cont...   STYLE & BEAUTY   \n",
       "\n",
       "                                                text  polarity  subjectivity  \\\n",
       "0  Jared Kushner Arrives In Israel For Whirlwind ...      0.00      0.000000   \n",
       "1  'The Best Thing Is To See How Much Love Can Do...      0.50      0.333333   \n",
       "2  Berlin's Nightlife: 48 Hours You Might Not Rem...      0.00      0.000000   \n",
       "3  Finding Strength to Stand on Your Own I was so...      0.35      0.650000   \n",
       "4  Alexander Wang Lawsuit Will Move To Federal Co...      0.00      0.000000   \n",
       "\n",
       "        len  \n",
       "0  0.600000  \n",
       "1  0.400000  \n",
       "2  0.515152  \n",
       "3  0.428571  \n",
       "4  0.678571  "
      ]
     },
     "execution_count": 24,
     "metadata": {},
     "output_type": "execute_result"
    }
   ],
   "source": [
    "df_news.head()"
   ]
  },
  {
   "cell_type": "code",
   "execution_count": 25,
   "metadata": {},
   "outputs": [],
   "source": [
    "from sklearn.preprocessing import LabelEncoder\n",
    "from sklearn.model_selection import train_test_split\n",
    "seed = 40\n",
    "X_total = df_news\n",
    "X_train_df = df_news[df_news['category']!= \" \"]\n",
    "X_test_df = df_news[df_news['category'] == \" \"]\n",
    "\n",
    "X = X_train_df[['text', 'polarity', 'subjectivity', 'len']]\n",
    "y = X_train_df['category']\n",
    "X_test = X_test_df[['text', 'polarity', 'subjectivity', 'len']]\n",
    "\n",
    "encoder = LabelEncoder()\n",
    "y = encoder.fit_transform(y)\n",
    "x_train, x_test, y_train, y_test = train_test_split(X, y, test_size=0.2, random_state=seed, stratify=y)\n"
   ]
  },
  {
   "cell_type": "code",
   "execution_count": 26,
   "metadata": {},
   "outputs": [],
   "source": [
    "encoder = LabelEncoder()\n",
    "y = encoder.fit_transform(y)\n",
    "x_train, x_test, y_train, y_test = train_test_split(X, y, test_size=0.2, random_state=seed, stratify=y)"
   ]
  },
  {
   "cell_type": "code",
   "execution_count": 27,
   "metadata": {},
   "outputs": [
    {
     "data": {
      "text/plain": [
       "Pipeline(memory=None,\n",
       "         steps=[('union',\n",
       "                 FeatureUnion(n_jobs=None,\n",
       "                              transformer_list=[('text',\n",
       "                                                 Pipeline(memory=None,\n",
       "                                                          steps=[('selector',\n",
       "                                                                  ItemSelector(key='text')),\n",
       "                                                                 ('tfidf',\n",
       "                                                                  TfidfVectorizer(analyzer='word',\n",
       "                                                                                  binary=False,\n",
       "                                                                                  decode_error='strict',\n",
       "                                                                                  dtype=<class 'numpy.float64'>,\n",
       "                                                                                  encoding='utf-8',\n",
       "                                                                                  input='content',\n",
       "                                                                                  lowercase=True,\n",
       "                                                                                  max_df=0.2,\n",
       "                                                                                  max_features=None,\n",
       "                                                                                  min_df=3,\n",
       "                                                                                  ngram...\n",
       "                                                                                  use_idf=1,\n",
       "                                                                                  vocabulary=None))],\n",
       "                                                          verbose=False)),\n",
       "                                                ('stats',\n",
       "                                                 Pipeline(memory=None,\n",
       "                                                          steps=[('selector',\n",
       "                                                                  ItemSelector(key=['polarity',\n",
       "                                                                                    'subjectivity',\n",
       "                                                                                    'len'])),\n",
       "                                                                 ('stats',\n",
       "                                                                  TextStats()),\n",
       "                                                                 ('vect',\n",
       "                                                                  DictVectorizer(dtype=<class 'numpy.float64'>,\n",
       "                                                                                 separator='=',\n",
       "                                                                                 sort=True,\n",
       "                                                                                 sparse=True))],\n",
       "                                                          verbose=False))],\n",
       "                              transformer_weights={'stats': 1.5, 'text': 0.9},\n",
       "                              verbose=False))],\n",
       "         verbose=False)"
      ]
     },
     "execution_count": 27,
     "metadata": {},
     "output_type": "execute_result"
    }
   ],
   "source": [
    "pipeline.fit(X_total)"
   ]
  },
  {
   "cell_type": "markdown",
   "metadata": {},
   "source": [
    "# ML models"
   ]
  },
  {
   "cell_type": "code",
   "execution_count": 28,
   "metadata": {},
   "outputs": [],
   "source": [
    "train_vec = pipeline.transform(x_train)\n",
    "test_vec = pipeline.transform(x_test)\n",
    "final_test_vec = pipeline.transform(X_test)"
   ]
  },
  {
   "cell_type": "code",
   "execution_count": 29,
   "metadata": {},
   "outputs": [],
   "source": [
    "clf_sv = LinearSVC(C=1, class_weight='balanced', multi_class='ovr', random_state=40, max_iter=10000) \n",
    "clf_sgd = SGDClassifier(max_iter=200,) \n",
    "\n"
   ]
  },
  {
   "cell_type": "code",
   "execution_count": 30,
   "metadata": {},
   "outputs": [
    {
     "name": "stdout",
     "output_type": "stream",
     "text": [
      "[0.66865761 0.67103986 0.67493339]\n",
      "Mean score: 0.672 (+/-0.003)\n",
      "[0.62318949 0.62199706 0.63369936]\n",
      "Mean score: 0.626 (+/-0.005)\n"
     ]
    }
   ],
   "source": [
    "from sklearn.model_selection import cross_val_score\n",
    "\n",
    "clfs = [clf_sv, clf_sgd]\n",
    "cv = 3\n",
    "for clf in clfs:\n",
    "    scores = cross_val_score(clf,train_vec, y_train, cv=cv, scoring=\"accuracy\" )\n",
    "    print (scores)\n",
    "    print ((\"Mean score: {0:.3f} (+/-{1:.3f})\").format(\n",
    "        np.mean(scores), np.std(scores)))"
   ]
  },
  {
   "cell_type": "code",
   "execution_count": 31,
   "metadata": {},
   "outputs": [
    {
     "name": "stdout",
     "output_type": "stream",
     "text": [
      "[('SVC accuracy is', 0.6784718534253851)]\n"
     ]
    }
   ],
   "source": [
    "from sklearn.metrics import classification_report\n",
    "clf_sv.fit(train_vec, y_train )\n",
    "y_pred = clf_sv.predict(test_vec)\n",
    "list_result =[]\n",
    "list_result.append((\"SVC accuracy is\",accuracy_score(y_test, y_pred)))\n",
    "print(list_result)"
   ]
  },
  {
   "cell_type": "code",
   "execution_count": 32,
   "metadata": {},
   "outputs": [],
   "source": [
    "answer = clf_sv.predict(final_test_vec)"
   ]
  },
  {
   "cell_type": "code",
   "execution_count": 33,
   "metadata": {},
   "outputs": [],
   "source": [
    "category_name = encoder.inverse_transform(answer)"
   ]
  },
  {
   "cell_type": "code",
   "execution_count": 34,
   "metadata": {},
   "outputs": [
    {
     "data": {
      "text/plain": [
       "array([ 6,  6,  0, ...,  2, 19, 19])"
      ]
     },
     "execution_count": 34,
     "metadata": {},
     "output_type": "execute_result"
    }
   ],
   "source": [
    "category_name"
   ]
  },
  {
   "cell_type": "code",
   "execution_count": 35,
   "metadata": {},
   "outputs": [],
   "source": [
    "test_df_news['category'] = category_name"
   ]
  },
  {
   "cell_type": "code",
   "execution_count": 36,
   "metadata": {},
   "outputs": [
    {
     "data": {
      "text/html": [
       "<div>\n",
       "<style scoped>\n",
       "    .dataframe tbody tr th:only-of-type {\n",
       "        vertical-align: middle;\n",
       "    }\n",
       "\n",
       "    .dataframe tbody tr th {\n",
       "        vertical-align: top;\n",
       "    }\n",
       "\n",
       "    .dataframe thead th {\n",
       "        text-align: right;\n",
       "    }\n",
       "</style>\n",
       "<table border=\"1\" class=\"dataframe\">\n",
       "  <thead>\n",
       "    <tr style=\"text-align: right;\">\n",
       "      <th></th>\n",
       "      <th>headline</th>\n",
       "      <th>short_description</th>\n",
       "      <th>category</th>\n",
       "    </tr>\n",
       "  </thead>\n",
       "  <tbody>\n",
       "    <tr>\n",
       "      <th>0</th>\n",
       "      <td>Hugh Grant Marries For The First Time At Age 57</td>\n",
       "      <td>The actor and his longtime girlfriend Anna Ebe...</td>\n",
       "      <td>6</td>\n",
       "    </tr>\n",
       "    <tr>\n",
       "      <th>1</th>\n",
       "      <td>Justin Timberlake Visits Texas School Shooting...</td>\n",
       "      <td>The pop star also wore a \"Santa Fe Strong\" shi...</td>\n",
       "      <td>6</td>\n",
       "    </tr>\n",
       "    <tr>\n",
       "      <th>2</th>\n",
       "      <td>Twitter #PutStarWarsInOtherFilms And It Was Un...</td>\n",
       "      <td>There's no such thing as too much \"Star Wars.\"</td>\n",
       "      <td>0</td>\n",
       "    </tr>\n",
       "    <tr>\n",
       "      <th>3</th>\n",
       "      <td>Warriors Coach Steve Kerr Calls NFL Ban On Pro...</td>\n",
       "      <td>Forbidding players to take a knee during the n...</td>\n",
       "      <td>19</td>\n",
       "    </tr>\n",
       "    <tr>\n",
       "      <th>4</th>\n",
       "      <td>Jack Johnson Was Pardoned, But Taboo Sex Is St...</td>\n",
       "      <td>A new law to fight sex trafficking targets som...</td>\n",
       "      <td>14</td>\n",
       "    </tr>\n",
       "    <tr>\n",
       "      <th>5</th>\n",
       "      <td>Trump's New 'MAGA'-Themed Swimwear Sinks On Tw...</td>\n",
       "      <td>\"Does this swimsuit make me look racist?\"</td>\n",
       "      <td>16</td>\n",
       "    </tr>\n",
       "    <tr>\n",
       "      <th>6</th>\n",
       "      <td>Man Faces Charges After Pulling Knife, Stun Gu...</td>\n",
       "      <td>“We thought we were going to die,\" one of the ...</td>\n",
       "      <td>1</td>\n",
       "    </tr>\n",
       "    <tr>\n",
       "      <th>7</th>\n",
       "      <td>People Are Rattled By How Much This Nigerian M...</td>\n",
       "      <td>Suleiman Abdulfatai looks like he could be the...</td>\n",
       "      <td>8</td>\n",
       "    </tr>\n",
       "    <tr>\n",
       "      <th>8</th>\n",
       "      <td>What You Missed About The Saddest Death In 'Av...</td>\n",
       "      <td>Directors Joe and Anthony Russo answer our mos...</td>\n",
       "      <td>6</td>\n",
       "    </tr>\n",
       "    <tr>\n",
       "      <th>9</th>\n",
       "      <td>Harvey Weinstein Accusers Say They Never Thoug...</td>\n",
       "      <td>Some of the actresses who came forward with se...</td>\n",
       "      <td>6</td>\n",
       "    </tr>\n",
       "    <tr>\n",
       "      <th>10</th>\n",
       "      <td>John Mayer's Weird New Low-Budget Video Is A M...</td>\n",
       "      <td>Mayer's hilariously strange \"New Light\" video ...</td>\n",
       "      <td>0</td>\n",
       "    </tr>\n",
       "    <tr>\n",
       "      <th>11</th>\n",
       "      <td>Publix Suspends Contributions To NRA-Backed Po...</td>\n",
       "      <td>\"Publix knows we're not going away,\" one gun-c...</td>\n",
       "      <td>16</td>\n",
       "    </tr>\n",
       "    <tr>\n",
       "      <th>12</th>\n",
       "      <td>How 'RuPaul’s Drag Race' Is Teaching Straight ...</td>\n",
       "      <td>Mainstream pop culture isn’t the only thing to...</td>\n",
       "      <td>14</td>\n",
       "    </tr>\n",
       "    <tr>\n",
       "      <th>13</th>\n",
       "      <td>North Korea Threatens Again To Call Off Trump ...</td>\n",
       "      <td>A top Pyongyang official lambasted \"political ...</td>\n",
       "      <td>26</td>\n",
       "    </tr>\n",
       "    <tr>\n",
       "      <th>14</th>\n",
       "      <td>North Korea Demolishes Tunnels At Nuclear Test...</td>\n",
       "      <td>North Korea has conducted all six of its nucle...</td>\n",
       "      <td>26</td>\n",
       "    </tr>\n",
       "    <tr>\n",
       "      <th>15</th>\n",
       "      <td>Seth Meyers Gives Donald Trump Some Valuable M...</td>\n",
       "      <td>“Stop trying to make ‘Fetch’ happen.\"</td>\n",
       "      <td>0</td>\n",
       "    </tr>\n",
       "    <tr>\n",
       "      <th>16</th>\n",
       "      <td>U.S. Launches Auto Import Probe, China Vows To...</td>\n",
       "      <td>The investigation could lead to new U.S. tarif...</td>\n",
       "      <td>4</td>\n",
       "    </tr>\n",
       "    <tr>\n",
       "      <th>17</th>\n",
       "      <td>Devin Nunes-Linked Winery Faced Suit Over Alle...</td>\n",
       "      <td>The lawmaker is reportedly one of at least 50 ...</td>\n",
       "      <td>4</td>\n",
       "    </tr>\n",
       "    <tr>\n",
       "      <th>18</th>\n",
       "      <td>Trump Lawyer Attended DOJ Meeting On Confident...</td>\n",
       "      <td>Emmet Flood, the White House attorney dealing ...</td>\n",
       "      <td>16</td>\n",
       "    </tr>\n",
       "    <tr>\n",
       "      <th>19</th>\n",
       "      <td>Ellen Tears Up When Ashton Kutcher Donates $4 ...</td>\n",
       "      <td>She even got to personally push the button to ...</td>\n",
       "      <td>6</td>\n",
       "    </tr>\n",
       "  </tbody>\n",
       "</table>\n",
       "</div>"
      ],
      "text/plain": [
       "                                             headline  \\\n",
       "0     Hugh Grant Marries For The First Time At Age 57   \n",
       "1   Justin Timberlake Visits Texas School Shooting...   \n",
       "2   Twitter #PutStarWarsInOtherFilms And It Was Un...   \n",
       "3   Warriors Coach Steve Kerr Calls NFL Ban On Pro...   \n",
       "4   Jack Johnson Was Pardoned, But Taboo Sex Is St...   \n",
       "5   Trump's New 'MAGA'-Themed Swimwear Sinks On Tw...   \n",
       "6   Man Faces Charges After Pulling Knife, Stun Gu...   \n",
       "7   People Are Rattled By How Much This Nigerian M...   \n",
       "8   What You Missed About The Saddest Death In 'Av...   \n",
       "9   Harvey Weinstein Accusers Say They Never Thoug...   \n",
       "10  John Mayer's Weird New Low-Budget Video Is A M...   \n",
       "11  Publix Suspends Contributions To NRA-Backed Po...   \n",
       "12  How 'RuPaul’s Drag Race' Is Teaching Straight ...   \n",
       "13  North Korea Threatens Again To Call Off Trump ...   \n",
       "14  North Korea Demolishes Tunnels At Nuclear Test...   \n",
       "15  Seth Meyers Gives Donald Trump Some Valuable M...   \n",
       "16  U.S. Launches Auto Import Probe, China Vows To...   \n",
       "17  Devin Nunes-Linked Winery Faced Suit Over Alle...   \n",
       "18  Trump Lawyer Attended DOJ Meeting On Confident...   \n",
       "19  Ellen Tears Up When Ashton Kutcher Donates $4 ...   \n",
       "\n",
       "                                    short_description  category  \n",
       "0   The actor and his longtime girlfriend Anna Ebe...         6  \n",
       "1   The pop star also wore a \"Santa Fe Strong\" shi...         6  \n",
       "2      There's no such thing as too much \"Star Wars.\"         0  \n",
       "3   Forbidding players to take a knee during the n...        19  \n",
       "4   A new law to fight sex trafficking targets som...        14  \n",
       "5           \"Does this swimsuit make me look racist?\"        16  \n",
       "6   “We thought we were going to die,\" one of the ...         1  \n",
       "7   Suleiman Abdulfatai looks like he could be the...         8  \n",
       "8   Directors Joe and Anthony Russo answer our mos...         6  \n",
       "9   Some of the actresses who came forward with se...         6  \n",
       "10  Mayer's hilariously strange \"New Light\" video ...         0  \n",
       "11  \"Publix knows we're not going away,\" one gun-c...        16  \n",
       "12  Mainstream pop culture isn’t the only thing to...        14  \n",
       "13  A top Pyongyang official lambasted \"political ...        26  \n",
       "14  North Korea has conducted all six of its nucle...        26  \n",
       "15              “Stop trying to make ‘Fetch’ happen.\"         0  \n",
       "16  The investigation could lead to new U.S. tarif...         4  \n",
       "17  The lawmaker is reportedly one of at least 50 ...         4  \n",
       "18  Emmet Flood, the White House attorney dealing ...        16  \n",
       "19  She even got to personally push the button to ...         6  "
      ]
     },
     "execution_count": 36,
     "metadata": {},
     "output_type": "execute_result"
    }
   ],
   "source": [
    "test_df_news.head(20)"
   ]
  },
  {
   "cell_type": "code",
   "execution_count": 37,
   "metadata": {},
   "outputs": [],
   "source": [
    "test_df_news.to_csv('/Users/shubh/Downloads/test_news.csv')"
   ]
  },
  {
   "cell_type": "code",
   "execution_count": null,
   "metadata": {},
   "outputs": [],
   "source": []
  },
  {
   "cell_type": "code",
   "execution_count": null,
   "metadata": {},
   "outputs": [],
   "source": []
  }
 ],
 "metadata": {
  "kernelspec": {
   "display_name": "Python 3",
   "language": "python",
   "name": "python3"
  },
  "language_info": {
   "codemirror_mode": {
    "name": "ipython",
    "version": 3
   },
   "file_extension": ".py",
   "mimetype": "text/x-python",
   "name": "python",
   "nbconvert_exporter": "python",
   "pygments_lexer": "ipython3",
   "version": "3.7.4"
  }
 },
 "nbformat": 4,
 "nbformat_minor": 2
}
